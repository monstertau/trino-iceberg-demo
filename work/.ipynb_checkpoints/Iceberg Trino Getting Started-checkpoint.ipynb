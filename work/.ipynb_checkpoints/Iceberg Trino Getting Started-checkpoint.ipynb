{
 "cells": [
  {
   "cell_type": "code",
   "execution_count": 1,
   "id": "747c6cbe-f981-4cf1-b4a9-9e2f23ef5b52",
   "metadata": {},
   "outputs": [
    {
     "name": "stdout",
     "output_type": "stream",
     "text": [
      "Note: you may need to restart the kernel to use updated packages.\n"
     ]
    }
   ],
   "source": [
    "%pip install jupysql trino pandas pyarrow --quiet"
   ]
  },
  {
   "cell_type": "code",
   "execution_count": 2,
   "id": "03500121-f20c-4547-b6d9-614eeb4cd729",
   "metadata": {},
   "outputs": [
    {
     "name": "stdout",
     "output_type": "stream",
     "text": [
      "Note: you may need to restart the kernel to use updated packages.\n"
     ]
    }
   ],
   "source": [
    "%pip install sqlalchemy-trino --quiet"
   ]
  },
  {
   "cell_type": "code",
   "execution_count": 1,
   "id": "f4529c33-ea08-4668-baec-5c2822f4d1f1",
   "metadata": {},
   "outputs": [
    {
     "data": {
      "text/plain": [
       "(1369769, 19)"
      ]
     },
     "execution_count": 1,
     "metadata": {},
     "output_type": "execute_result"
    }
   ],
   "source": [
    "import pandas as pd\n",
    "\n",
    "df = pd.read_parquet(\n",
    "    \"https://d37ci6vzurychx.cloudfront.net/trip-data/yellow_tripdata_2021-01.parquet\"\n",
    ")\n",
    "df.shape"
   ]
  },
  {
   "cell_type": "code",
   "execution_count": 19,
   "id": "7c0fdfc4-96b5-4105-92dd-28cc60f5f164",
   "metadata": {},
   "outputs": [
    {
     "data": {
      "text/html": [
       "<div>\n",
       "<style scoped>\n",
       "    .dataframe tbody tr th:only-of-type {\n",
       "        vertical-align: middle;\n",
       "    }\n",
       "\n",
       "    .dataframe tbody tr th {\n",
       "        vertical-align: top;\n",
       "    }\n",
       "\n",
       "    .dataframe thead th {\n",
       "        text-align: right;\n",
       "    }\n",
       "</style>\n",
       "<table border=\"1\" class=\"dataframe\">\n",
       "  <thead>\n",
       "    <tr style=\"text-align: right;\">\n",
       "      <th></th>\n",
       "      <th>VendorID</th>\n",
       "      <th>tpep_pickup_datetime</th>\n",
       "      <th>tpep_dropoff_datetime</th>\n",
       "      <th>passenger_count</th>\n",
       "      <th>trip_distance</th>\n",
       "      <th>RatecodeID</th>\n",
       "      <th>store_and_fwd_flag</th>\n",
       "      <th>PULocationID</th>\n",
       "      <th>DOLocationID</th>\n",
       "      <th>payment_type</th>\n",
       "      <th>fare_amount</th>\n",
       "      <th>extra</th>\n",
       "      <th>mta_tax</th>\n",
       "      <th>tip_amount</th>\n",
       "      <th>tolls_amount</th>\n",
       "      <th>improvement_surcharge</th>\n",
       "      <th>total_amount</th>\n",
       "      <th>congestion_surcharge</th>\n",
       "      <th>airport_fee</th>\n",
       "    </tr>\n",
       "  </thead>\n",
       "  <tbody>\n",
       "    <tr>\n",
       "      <th>0</th>\n",
       "      <td>1</td>\n",
       "      <td>2021-01-01 00:30:10</td>\n",
       "      <td>2021-01-01 00:36:12</td>\n",
       "      <td>1.0</td>\n",
       "      <td>2.10</td>\n",
       "      <td>1.0</td>\n",
       "      <td>N</td>\n",
       "      <td>142</td>\n",
       "      <td>43</td>\n",
       "      <td>2</td>\n",
       "      <td>8.0</td>\n",
       "      <td>3.0</td>\n",
       "      <td>0.5</td>\n",
       "      <td>0.00</td>\n",
       "      <td>0.0</td>\n",
       "      <td>0.3</td>\n",
       "      <td>11.80</td>\n",
       "      <td>2.5</td>\n",
       "      <td>NaN</td>\n",
       "    </tr>\n",
       "    <tr>\n",
       "      <th>1</th>\n",
       "      <td>1</td>\n",
       "      <td>2021-01-01 00:51:20</td>\n",
       "      <td>2021-01-01 00:52:19</td>\n",
       "      <td>1.0</td>\n",
       "      <td>0.20</td>\n",
       "      <td>1.0</td>\n",
       "      <td>N</td>\n",
       "      <td>238</td>\n",
       "      <td>151</td>\n",
       "      <td>2</td>\n",
       "      <td>3.0</td>\n",
       "      <td>0.5</td>\n",
       "      <td>0.5</td>\n",
       "      <td>0.00</td>\n",
       "      <td>0.0</td>\n",
       "      <td>0.3</td>\n",
       "      <td>4.30</td>\n",
       "      <td>0.0</td>\n",
       "      <td>NaN</td>\n",
       "    </tr>\n",
       "    <tr>\n",
       "      <th>2</th>\n",
       "      <td>1</td>\n",
       "      <td>2021-01-01 00:43:30</td>\n",
       "      <td>2021-01-01 01:11:06</td>\n",
       "      <td>1.0</td>\n",
       "      <td>14.70</td>\n",
       "      <td>1.0</td>\n",
       "      <td>N</td>\n",
       "      <td>132</td>\n",
       "      <td>165</td>\n",
       "      <td>1</td>\n",
       "      <td>42.0</td>\n",
       "      <td>0.5</td>\n",
       "      <td>0.5</td>\n",
       "      <td>8.65</td>\n",
       "      <td>0.0</td>\n",
       "      <td>0.3</td>\n",
       "      <td>51.95</td>\n",
       "      <td>0.0</td>\n",
       "      <td>NaN</td>\n",
       "    </tr>\n",
       "    <tr>\n",
       "      <th>3</th>\n",
       "      <td>1</td>\n",
       "      <td>2021-01-01 00:15:48</td>\n",
       "      <td>2021-01-01 00:31:01</td>\n",
       "      <td>0.0</td>\n",
       "      <td>10.60</td>\n",
       "      <td>1.0</td>\n",
       "      <td>N</td>\n",
       "      <td>138</td>\n",
       "      <td>132</td>\n",
       "      <td>1</td>\n",
       "      <td>29.0</td>\n",
       "      <td>0.5</td>\n",
       "      <td>0.5</td>\n",
       "      <td>6.05</td>\n",
       "      <td>0.0</td>\n",
       "      <td>0.3</td>\n",
       "      <td>36.35</td>\n",
       "      <td>0.0</td>\n",
       "      <td>NaN</td>\n",
       "    </tr>\n",
       "    <tr>\n",
       "      <th>4</th>\n",
       "      <td>2</td>\n",
       "      <td>2021-01-01 00:31:49</td>\n",
       "      <td>2021-01-01 00:48:21</td>\n",
       "      <td>1.0</td>\n",
       "      <td>4.94</td>\n",
       "      <td>1.0</td>\n",
       "      <td>N</td>\n",
       "      <td>68</td>\n",
       "      <td>33</td>\n",
       "      <td>1</td>\n",
       "      <td>16.5</td>\n",
       "      <td>0.5</td>\n",
       "      <td>0.5</td>\n",
       "      <td>4.06</td>\n",
       "      <td>0.0</td>\n",
       "      <td>0.3</td>\n",
       "      <td>24.36</td>\n",
       "      <td>2.5</td>\n",
       "      <td>NaN</td>\n",
       "    </tr>\n",
       "    <tr>\n",
       "      <th>...</th>\n",
       "      <td>...</td>\n",
       "      <td>...</td>\n",
       "      <td>...</td>\n",
       "      <td>...</td>\n",
       "      <td>...</td>\n",
       "      <td>...</td>\n",
       "      <td>...</td>\n",
       "      <td>...</td>\n",
       "      <td>...</td>\n",
       "      <td>...</td>\n",
       "      <td>...</td>\n",
       "      <td>...</td>\n",
       "      <td>...</td>\n",
       "      <td>...</td>\n",
       "      <td>...</td>\n",
       "      <td>...</td>\n",
       "      <td>...</td>\n",
       "      <td>...</td>\n",
       "      <td>...</td>\n",
       "    </tr>\n",
       "    <tr>\n",
       "      <th>995</th>\n",
       "      <td>1</td>\n",
       "      <td>2021-01-01 00:57:42</td>\n",
       "      <td>2021-01-01 01:08:18</td>\n",
       "      <td>1.0</td>\n",
       "      <td>3.10</td>\n",
       "      <td>1.0</td>\n",
       "      <td>N</td>\n",
       "      <td>264</td>\n",
       "      <td>264</td>\n",
       "      <td>1</td>\n",
       "      <td>11.5</td>\n",
       "      <td>0.5</td>\n",
       "      <td>0.5</td>\n",
       "      <td>1.00</td>\n",
       "      <td>0.0</td>\n",
       "      <td>0.3</td>\n",
       "      <td>13.80</td>\n",
       "      <td>0.0</td>\n",
       "      <td>NaN</td>\n",
       "    </tr>\n",
       "    <tr>\n",
       "      <th>996</th>\n",
       "      <td>2</td>\n",
       "      <td>2021-01-01 00:19:34</td>\n",
       "      <td>2021-01-01 00:31:34</td>\n",
       "      <td>1.0</td>\n",
       "      <td>2.77</td>\n",
       "      <td>1.0</td>\n",
       "      <td>N</td>\n",
       "      <td>170</td>\n",
       "      <td>239</td>\n",
       "      <td>1</td>\n",
       "      <td>11.0</td>\n",
       "      <td>0.5</td>\n",
       "      <td>0.5</td>\n",
       "      <td>2.96</td>\n",
       "      <td>0.0</td>\n",
       "      <td>0.3</td>\n",
       "      <td>17.76</td>\n",
       "      <td>2.5</td>\n",
       "      <td>NaN</td>\n",
       "    </tr>\n",
       "    <tr>\n",
       "      <th>997</th>\n",
       "      <td>2</td>\n",
       "      <td>2021-01-01 00:16:38</td>\n",
       "      <td>2021-01-01 00:24:23</td>\n",
       "      <td>3.0</td>\n",
       "      <td>2.01</td>\n",
       "      <td>1.0</td>\n",
       "      <td>N</td>\n",
       "      <td>41</td>\n",
       "      <td>263</td>\n",
       "      <td>1</td>\n",
       "      <td>8.5</td>\n",
       "      <td>0.5</td>\n",
       "      <td>0.5</td>\n",
       "      <td>2.46</td>\n",
       "      <td>0.0</td>\n",
       "      <td>0.3</td>\n",
       "      <td>14.76</td>\n",
       "      <td>2.5</td>\n",
       "      <td>NaN</td>\n",
       "    </tr>\n",
       "    <tr>\n",
       "      <th>998</th>\n",
       "      <td>2</td>\n",
       "      <td>2021-01-01 00:28:09</td>\n",
       "      <td>2021-01-01 00:40:08</td>\n",
       "      <td>1.0</td>\n",
       "      <td>3.35</td>\n",
       "      <td>1.0</td>\n",
       "      <td>N</td>\n",
       "      <td>263</td>\n",
       "      <td>186</td>\n",
       "      <td>4</td>\n",
       "      <td>-12.0</td>\n",
       "      <td>-0.5</td>\n",
       "      <td>-0.5</td>\n",
       "      <td>0.00</td>\n",
       "      <td>0.0</td>\n",
       "      <td>-0.3</td>\n",
       "      <td>-15.80</td>\n",
       "      <td>-2.5</td>\n",
       "      <td>NaN</td>\n",
       "    </tr>\n",
       "    <tr>\n",
       "      <th>999</th>\n",
       "      <td>2</td>\n",
       "      <td>2021-01-01 00:28:09</td>\n",
       "      <td>2021-01-01 00:40:08</td>\n",
       "      <td>1.0</td>\n",
       "      <td>3.35</td>\n",
       "      <td>1.0</td>\n",
       "      <td>N</td>\n",
       "      <td>263</td>\n",
       "      <td>186</td>\n",
       "      <td>2</td>\n",
       "      <td>12.0</td>\n",
       "      <td>0.5</td>\n",
       "      <td>0.5</td>\n",
       "      <td>0.00</td>\n",
       "      <td>0.0</td>\n",
       "      <td>0.3</td>\n",
       "      <td>15.80</td>\n",
       "      <td>2.5</td>\n",
       "      <td>NaN</td>\n",
       "    </tr>\n",
       "  </tbody>\n",
       "</table>\n",
       "<p>1000 rows × 19 columns</p>\n",
       "</div>"
      ],
      "text/plain": [
       "     VendorID tpep_pickup_datetime tpep_dropoff_datetime  passenger_count   \n",
       "0           1  2021-01-01 00:30:10   2021-01-01 00:36:12              1.0  \\\n",
       "1           1  2021-01-01 00:51:20   2021-01-01 00:52:19              1.0   \n",
       "2           1  2021-01-01 00:43:30   2021-01-01 01:11:06              1.0   \n",
       "3           1  2021-01-01 00:15:48   2021-01-01 00:31:01              0.0   \n",
       "4           2  2021-01-01 00:31:49   2021-01-01 00:48:21              1.0   \n",
       "..        ...                  ...                   ...              ...   \n",
       "995         1  2021-01-01 00:57:42   2021-01-01 01:08:18              1.0   \n",
       "996         2  2021-01-01 00:19:34   2021-01-01 00:31:34              1.0   \n",
       "997         2  2021-01-01 00:16:38   2021-01-01 00:24:23              3.0   \n",
       "998         2  2021-01-01 00:28:09   2021-01-01 00:40:08              1.0   \n",
       "999         2  2021-01-01 00:28:09   2021-01-01 00:40:08              1.0   \n",
       "\n",
       "     trip_distance  RatecodeID store_and_fwd_flag  PULocationID  DOLocationID   \n",
       "0             2.10         1.0                  N           142            43  \\\n",
       "1             0.20         1.0                  N           238           151   \n",
       "2            14.70         1.0                  N           132           165   \n",
       "3            10.60         1.0                  N           138           132   \n",
       "4             4.94         1.0                  N            68            33   \n",
       "..             ...         ...                ...           ...           ...   \n",
       "995           3.10         1.0                  N           264           264   \n",
       "996           2.77         1.0                  N           170           239   \n",
       "997           2.01         1.0                  N            41           263   \n",
       "998           3.35         1.0                  N           263           186   \n",
       "999           3.35         1.0                  N           263           186   \n",
       "\n",
       "     payment_type  fare_amount  extra  mta_tax  tip_amount  tolls_amount   \n",
       "0               2          8.0    3.0      0.5        0.00           0.0  \\\n",
       "1               2          3.0    0.5      0.5        0.00           0.0   \n",
       "2               1         42.0    0.5      0.5        8.65           0.0   \n",
       "3               1         29.0    0.5      0.5        6.05           0.0   \n",
       "4               1         16.5    0.5      0.5        4.06           0.0   \n",
       "..            ...          ...    ...      ...         ...           ...   \n",
       "995             1         11.5    0.5      0.5        1.00           0.0   \n",
       "996             1         11.0    0.5      0.5        2.96           0.0   \n",
       "997             1          8.5    0.5      0.5        2.46           0.0   \n",
       "998             4        -12.0   -0.5     -0.5        0.00           0.0   \n",
       "999             2         12.0    0.5      0.5        0.00           0.0   \n",
       "\n",
       "     improvement_surcharge  total_amount  congestion_surcharge  airport_fee  \n",
       "0                      0.3         11.80                   2.5          NaN  \n",
       "1                      0.3          4.30                   0.0          NaN  \n",
       "2                      0.3         51.95                   0.0          NaN  \n",
       "3                      0.3         36.35                   0.0          NaN  \n",
       "4                      0.3         24.36                   2.5          NaN  \n",
       "..                     ...           ...                   ...          ...  \n",
       "995                    0.3         13.80                   0.0          NaN  \n",
       "996                    0.3         17.76                   2.5          NaN  \n",
       "997                    0.3         14.76                   2.5          NaN  \n",
       "998                   -0.3        -15.80                  -2.5          NaN  \n",
       "999                    0.3         15.80                   2.5          NaN  \n",
       "\n",
       "[1000 rows x 19 columns]"
      ]
     },
     "execution_count": 19,
     "metadata": {},
     "output_type": "execute_result"
    }
   ],
   "source": [
    "df.head(1000)"
   ]
  },
  {
   "cell_type": "code",
   "execution_count": 1,
   "id": "d8594aae-94a9-484c-b24c-271752253b02",
   "metadata": {},
   "outputs": [],
   "source": [
    "from sqlalchemy import create_engine\n",
    "\n",
    "engine = create_engine(\n",
    "    \"trino://user@trino:8080/example\", connect_args={\"user\": \"user\"}\n",
    ")\n",
    "\n",
    "# df.to_sql(\n",
    "#     con=engine,\n",
    "#     name=\"taxi_2\",\n",
    "#     schema=\"default\",\n",
    "#     method=\"multi\",\n",
    "#     index=False,\n",
    "# )\n",
    "\n",
    "engine.dispose()"
   ]
  },
  {
   "cell_type": "code",
   "execution_count": 3,
   "id": "63a6bfdc-2fe2-4da5-8af4-137efdef9ad6",
   "metadata": {},
   "outputs": [],
   "source": [
    "%load_ext sql"
   ]
  },
  {
   "cell_type": "code",
   "execution_count": 4,
   "id": "00631eb8-0262-4777-b193-887919f9d44d",
   "metadata": {},
   "outputs": [
    {
     "data": {
      "text/html": [
       "<span style=\"None\">Connecting to &#x27;trino://user@trino:8080/example&#x27;</span>"
      ],
      "text/plain": [
       "Connecting to 'trino://user@trino:8080/example'"
      ]
     },
     "metadata": {},
     "output_type": "display_data"
    }
   ],
   "source": [
    "%sql trino://user@trino:8080/example\n"
   ]
  },
  {
   "cell_type": "code",
   "execution_count": 8,
   "id": "c971901b-c159-432f-9374-ae8fceebfcd5",
   "metadata": {},
   "outputs": [
    {
     "data": {
      "text/html": [
       "<span style=\"None\">Running query in &#x27;trino://user@trino:8080/example&#x27;</span>"
      ],
      "text/plain": [
       "Running query in 'trino://user@trino:8080/example'"
      ]
     },
     "metadata": {},
     "output_type": "display_data"
    },
    {
     "data": {
      "text/html": [
       "<table>\n",
       "    <thead>\n",
       "        <tr>\n",
       "            <th>Schema</th>\n",
       "        </tr>\n",
       "    </thead>\n",
       "    <tbody>\n",
       "        <tr>\n",
       "            <td>example_s3_schema</td>\n",
       "        </tr>\n",
       "        <tr>\n",
       "            <td>information_schema</td>\n",
       "        </tr>\n",
       "    </tbody>\n",
       "</table>"
      ],
      "text/plain": [
       "+--------------------+\n",
       "|       Schema       |\n",
       "+--------------------+\n",
       "| example_s3_schema  |\n",
       "| information_schema |\n",
       "+--------------------+"
      ]
     },
     "execution_count": 8,
     "metadata": {},
     "output_type": "execute_result"
    }
   ],
   "source": [
    "%%sql\n",
    "SHOW SCHEMAS"
   ]
  },
  {
   "cell_type": "code",
   "execution_count": 16,
   "id": "2bbc4911-26d3-496e-b177-e2c4c4728464",
   "metadata": {},
   "outputs": [
    {
     "data": {
      "text/html": [
       "<span style=\"None\">Running query in &#x27;trino://user@trino:8080/example&#x27;</span>"
      ],
      "text/plain": [
       "Running query in 'trino://user@trino:8080/example'"
      ]
     },
     "metadata": {},
     "output_type": "display_data"
    },
    {
     "data": {
      "text/html": [
       "<table>\n",
       "    <thead>\n",
       "        <tr>\n",
       "        </tr>\n",
       "    </thead>\n",
       "    <tbody>\n",
       "    </tbody>\n",
       "</table>"
      ],
      "text/plain": [
       "++\n",
       "||\n",
       "++\n",
       "++"
      ]
     },
     "execution_count": 16,
     "metadata": {},
     "output_type": "execute_result"
    }
   ],
   "source": [
    "%%sql \n",
    "USE example.example_s3_schema"
   ]
  },
  {
   "cell_type": "code",
   "execution_count": 17,
   "id": "55f2dab1-f618-4ec6-8dbb-720741c9bc5b",
   "metadata": {},
   "outputs": [
    {
     "data": {
      "text/html": [
       "<span style=\"None\">Running query in &#x27;trino://user@trino:8080/example&#x27;</span>"
      ],
      "text/plain": [
       "Running query in 'trino://user@trino:8080/example'"
      ]
     },
     "metadata": {},
     "output_type": "display_data"
    },
    {
     "data": {
      "text/html": [
       "<table>\n",
       "    <thead>\n",
       "        <tr>\n",
       "            <th>Table</th>\n",
       "        </tr>\n",
       "    </thead>\n",
       "    <tbody>\n",
       "        <tr>\n",
       "            <td>employees_test</td>\n",
       "        </tr>\n",
       "    </tbody>\n",
       "</table>"
      ],
      "text/plain": [
       "+----------------+\n",
       "|     Table      |\n",
       "+----------------+\n",
       "| employees_test |\n",
       "+----------------+"
      ]
     },
     "execution_count": 17,
     "metadata": {},
     "output_type": "execute_result"
    }
   ],
   "source": [
    "%%sql\n",
    "SHOW TABLES"
   ]
  },
  {
   "cell_type": "code",
   "execution_count": 21,
   "id": "ea456403-c0a6-495d-9c0d-635eadbc7dcd",
   "metadata": {},
   "outputs": [
    {
     "data": {
      "text/html": [
       "<span style=\"None\">Running query in &#x27;trino://user@trino:8080/example&#x27;</span>"
      ],
      "text/plain": [
       "Running query in 'trino://user@trino:8080/example'"
      ]
     },
     "metadata": {},
     "output_type": "display_data"
    },
    {
     "data": {
      "text/html": [
       "<table>\n",
       "    <thead>\n",
       "        <tr>\n",
       "            <th>name</th>\n",
       "            <th>salary</th>\n",
       "        </tr>\n",
       "    </thead>\n",
       "    <tbody>\n",
       "        <tr>\n",
       "            <td>Sam Evans</td>\n",
       "            <td>55000.00</td>\n",
       "        </tr>\n",
       "    </tbody>\n",
       "</table>"
      ],
      "text/plain": [
       "+-----------+----------+\n",
       "|    name   |  salary  |\n",
       "+-----------+----------+\n",
       "| Sam Evans | 55000.00 |\n",
       "+-----------+----------+"
      ]
     },
     "execution_count": 21,
     "metadata": {},
     "output_type": "execute_result"
    }
   ],
   "source": [
    "%%sql\n",
    "SELECT * FROM employees_test LIMIT 10"
   ]
  },
  {
   "cell_type": "code",
   "execution_count": 30,
   "id": "1cde6c64-00d6-42b8-8759-7188fdc4d1e0",
   "metadata": {},
   "outputs": [
    {
     "data": {
      "text/html": [
       "<span style=\"None\">Running query in &#x27;trino://user@trino:8080/example&#x27;</span>"
      ],
      "text/plain": [
       "Running query in 'trino://user@trino:8080/example'"
      ]
     },
     "metadata": {},
     "output_type": "display_data"
    },
    {
     "data": {
      "text/html": [
       "<table>\n",
       "    <thead>\n",
       "        <tr>\n",
       "            <th>committed_at</th>\n",
       "            <th>snapshot_id</th>\n",
       "            <th>parent_id</th>\n",
       "            <th>operation</th>\n",
       "            <th>manifest_list</th>\n",
       "            <th>summary</th>\n",
       "        </tr>\n",
       "    </thead>\n",
       "    <tbody>\n",
       "        <tr>\n",
       "            <td>2024-07-21 07:58:28.809000+00:00</td>\n",
       "            <td>113056888935869159</td>\n",
       "            <td>5428772407313275161</td>\n",
       "            <td>append</td>\n",
       "            <td>s3://warehouse/test/employees_test-9ae07ec2e0cd48b7b920c8593ab4ee76/metadata/snap-113056888935869159-1-eb26cace-6e4d-4133-a85d-bec2af36022a.avro</td>\n",
       "            <td>{'changed-partition-count': '1', 'added-data-files': '1', 'total-equality-deletes': '0', 'added-records': '1', 'trino_query_id': '20240721_075827_00002_xied6', 'total-position-deletes': '0', 'added-files-size': '399', 'total-delete-files': '0', 'total-files-size': '399', 'total-records': '1', 'total-data-files': '1'}</td>\n",
       "        </tr>\n",
       "        <tr>\n",
       "            <td>2024-07-21 07:58:27.387000+00:00</td>\n",
       "            <td>5428772407313275161</td>\n",
       "            <td>None</td>\n",
       "            <td>append</td>\n",
       "            <td>s3://warehouse/test/employees_test-9ae07ec2e0cd48b7b920c8593ab4ee76/metadata/snap-5428772407313275161-1-d1996d1e-943d-4bfb-ab7c-7a1301cdb3bb.avro</td>\n",
       "            <td>{'changed-partition-count': '0', 'total-equality-deletes': '0', 'trino_query_id': '20240721_075826_00001_xied6', 'total-position-deletes': '0', 'total-delete-files': '0', 'total-files-size': '0', 'total-records': '0', 'total-data-files': '0'}</td>\n",
       "        </tr>\n",
       "    </tbody>\n",
       "</table>"
      ],
      "text/plain": [
       "+----------------------------------+---------------------+---------------------+-----------+---------------------------------------------------------------------------------------------------------------------------------------------------+--------------------------------------------------------------------------------------------------------------------------------------------------------------------------------------------------------------------------------------------------------------------------------------------------------------------------------+\n",
       "|           committed_at           |     snapshot_id     |      parent_id      | operation |                                                                   manifest_list                                                                   |                                                                                                                                                            summary                                                                                                                                                             |\n",
       "+----------------------------------+---------------------+---------------------+-----------+---------------------------------------------------------------------------------------------------------------------------------------------------+--------------------------------------------------------------------------------------------------------------------------------------------------------------------------------------------------------------------------------------------------------------------------------------------------------------------------------+\n",
       "| 2024-07-21 07:58:28.809000+00:00 |  113056888935869159 | 5428772407313275161 |   append  |  s3://warehouse/test/employees_test-9ae07ec2e0cd48b7b920c8593ab4ee76/metadata/snap-113056888935869159-1-eb26cace-6e4d-4133-a85d-bec2af36022a.avro | {'changed-partition-count': '1', 'added-data-files': '1', 'total-equality-deletes': '0', 'added-records': '1', 'trino_query_id': '20240721_075827_00002_xied6', 'total-position-deletes': '0', 'added-files-size': '399', 'total-delete-files': '0', 'total-files-size': '399', 'total-records': '1', 'total-data-files': '1'} |\n",
       "| 2024-07-21 07:58:27.387000+00:00 | 5428772407313275161 |         None        |   append  | s3://warehouse/test/employees_test-9ae07ec2e0cd48b7b920c8593ab4ee76/metadata/snap-5428772407313275161-1-d1996d1e-943d-4bfb-ab7c-7a1301cdb3bb.avro |                                       {'changed-partition-count': '0', 'total-equality-deletes': '0', 'trino_query_id': '20240721_075826_00001_xied6', 'total-position-deletes': '0', 'total-delete-files': '0', 'total-files-size': '0', 'total-records': '0', 'total-data-files': '0'}                                       |\n",
       "+----------------------------------+---------------------+---------------------+-----------+---------------------------------------------------------------------------------------------------------------------------------------------------+--------------------------------------------------------------------------------------------------------------------------------------------------------------------------------------------------------------------------------------------------------------------------------------------------------------------------------+"
      ]
     },
     "execution_count": 30,
     "metadata": {},
     "output_type": "execute_result"
    }
   ],
   "source": [
    "%%sql\n",
    "SELECT * FROM \"employees_test$snapshots\" ORDER BY committed_at desc"
   ]
  },
  {
   "cell_type": "code",
   "execution_count": null,
   "id": "54628e17-c025-40fa-a7be-2cef95ddbbb6",
   "metadata": {},
   "outputs": [],
   "source": []
  }
 ],
 "metadata": {
  "kernelspec": {
   "display_name": "Python 3 (ipykernel)",
   "language": "python",
   "name": "python3"
  },
  "language_info": {
   "codemirror_mode": {
    "name": "ipython",
    "version": 3
   },
   "file_extension": ".py",
   "mimetype": "text/x-python",
   "name": "python",
   "nbconvert_exporter": "python",
   "pygments_lexer": "ipython3",
   "version": "3.11.6"
  }
 },
 "nbformat": 4,
 "nbformat_minor": 5
}
