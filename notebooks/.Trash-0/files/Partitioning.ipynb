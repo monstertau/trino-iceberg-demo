{
 "cells": [
  {
   "cell_type": "code",
   "execution_count": null,
   "id": "45572634-d1ea-449e-9f7f-2fa3aad7aa54",
   "metadata": {},
   "outputs": [],
   "source": []
  }
 ],
 "metadata": {
  "kernelspec": {
   "display_name": "",
   "name": ""
  },
  "language_info": {
   "name": ""
  }
 },
 "nbformat": 4,
 "nbformat_minor": 5
}
